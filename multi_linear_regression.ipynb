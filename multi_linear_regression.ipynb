{
  "nbformat": 4,
  "nbformat_minor": 0,
  "metadata": {
    "colab": {
      "name": "multi_linear_regression.ipynb",
      "provenance": [],
      "collapsed_sections": [],
      "authorship_tag": "ABX9TyMzKykzdmOCTBSuvOPviwNA",
      "include_colab_link": true
    },
    "kernelspec": {
      "name": "python3",
      "display_name": "Python 3"
    },
    "language_info": {
      "name": "python"
    }
  },
  "cells": [
    {
      "cell_type": "markdown",
      "metadata": {
        "id": "view-in-github",
        "colab_type": "text"
      },
      "source": [
        "<a href=\"https://colab.research.google.com/github/Hooiu/TensorFlow/blob/master/multi_linear_regression.ipynb\" target=\"_parent\"><img src=\"https://colab.research.google.com/assets/colab-badge.svg\" alt=\"Open In Colab\"/></a>"
      ]
    },
    {
      "cell_type": "code",
      "metadata": {
        "id": "Uupx-994Z-WQ"
      },
      "source": [
        "import tensorflow as tf\n",
        "import numpy as np\n",
        "import pandas as pd"
      ],
      "execution_count": null,
      "outputs": []
    },
    {
      "cell_type": "code",
      "metadata": {
        "id": "5rQkv43waFTj"
      },
      "source": [
        "X1 = [73, 93, 89, 96, 73, 80]\n",
        "X2 = [80, 88, 91, 98, 66, 71]\n",
        "X3 = [75, 93, 90, 100, 70, 95]\n",
        "Y = [76, 92, 90, 98, 71, 83]"
      ],
      "execution_count": null,
      "outputs": []
    },
    {
      "cell_type": "code",
      "metadata": {
        "id": "z-MzGgXta5z_"
      },
      "source": [
        "train_dataset = np.array([X1,X2,X3])\n",
        "train_dataset = train_dataset.T\n",
        "train_lables = np.array([Y])\n",
        "train_lables = train_lables.T"
      ],
      "execution_count": null,
      "outputs": []
    },
    {
      "cell_type": "code",
      "metadata": {
        "colab": {
          "base_uri": "https://localhost:8080/"
        },
        "id": "YQTfd5UXbDrJ",
        "outputId": "15be7239-5985-4f50-947b-627e851e755d"
      },
      "source": [
        "print('X shape :',train_dataset.shape)\n",
        "print('Y shape :',train_lables.shape)"
      ],
      "execution_count": null,
      "outputs": [
        {
          "output_type": "stream",
          "text": [
            "X shape : (6, 3)\n",
            "Y shape : (6, 1)\n"
          ],
          "name": "stdout"
        }
      ]
    },
    {
      "cell_type": "code",
      "metadata": {
        "id": "zq5A_jqqbQWA"
      },
      "source": [
        "def build_model():\n",
        "  model = tf.keras.Sequential(tf.keras.layers.Dense(1, input_dim = 3))\n",
        "  optimizer = tf.keras.optimizers.SGD(learning_rate=0.00001)\n",
        "  model.compile(loss='mse',\n",
        "                optimizer=optimizer)\n",
        "  return model"
      ],
      "execution_count": null,
      "outputs": []
    },
    {
      "cell_type": "code",
      "metadata": {
        "id": "M7_lbe7QcZaZ"
      },
      "source": [
        "model = build_model()"
      ],
      "execution_count": null,
      "outputs": []
    },
    {
      "cell_type": "code",
      "metadata": {
        "id": "Vb-qxGDzcdag"
      },
      "source": [
        "model.fit(train_dataset, train_lables, epochs=10000)"
      ],
      "execution_count": null,
      "outputs": []
    },
    {
      "cell_type": "code",
      "metadata": {
        "colab": {
          "base_uri": "https://localhost:8080/"
        },
        "id": "e1D6DjOMqikU",
        "outputId": "ce1bad0c-8c0f-44fc-f3b7-193d9cddf2ed"
      },
      "source": [
        "np.array([[70,80,90]]).shape"
      ],
      "execution_count": null,
      "outputs": [
        {
          "output_type": "execute_result",
          "data": {
            "text/plain": [
              "(1, 3)"
            ]
          },
          "metadata": {
            "tags": []
          },
          "execution_count": 68
        }
      ]
    },
    {
      "cell_type": "code",
      "metadata": {
        "colab": {
          "base_uri": "https://localhost:8080/"
        },
        "id": "FFvKb5gYcvHI",
        "outputId": "4b390a28-4afb-4570-fdb1-0e70280b978f"
      },
      "source": [
        "print(model.predict(np.array([[70,80,90]])))"
      ],
      "execution_count": null,
      "outputs": [
        {
          "output_type": "stream",
          "text": [
            "[[79.76907]]\n"
          ],
          "name": "stdout"
        }
      ]
    },
    {
      "cell_type": "code",
      "metadata": {
        "colab": {
          "base_uri": "https://localhost:8080/"
        },
        "id": "IpjMyNExtmM_",
        "outputId": "cb05a26d-59d7-4cf9-98a5-2ead4c2c62dc"
      },
      "source": [
        "model.predict(train_dataset)"
      ],
      "execution_count": null,
      "outputs": [
        {
          "output_type": "execute_result",
          "data": {
            "text/plain": [
              "array([[75.83356 ],\n",
              "       [92.03629 ],\n",
              "       [90.224464],\n",
              "       [98.27674 ],\n",
              "       [70.40101 ],\n",
              "       [83.04555 ]], dtype=float32)"
            ]
          },
          "metadata": {
            "tags": []
          },
          "execution_count": 72
        }
      ]
    }
  ]
}